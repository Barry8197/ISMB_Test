{
 "cells": [
  {
   "cell_type": "code",
   "execution_count": 3,
   "id": "1e1e3104",
   "metadata": {},
   "outputs": [
    {
     "name": "stdout",
     "output_type": "stream",
     "text": [
      "Collecting ghp-import\n",
      "  Using cached ghp_import-2.1.0-py3-none-any.whl (11 kB)\n",
      "Requirement already satisfied: python-dateutil>=2.8.1 in c:\\users\\barry\\anaconda3\\lib\\site-packages (from ghp-import) (2.8.2)\n",
      "Requirement already satisfied: six>=1.5 in c:\\users\\barry\\anaconda3\\lib\\site-packages (from python-dateutil>=2.8.1->ghp-import) (1.16.0)\n",
      "Installing collected packages: ghp-import\n",
      "Successfully installed ghp-import-2.1.0\n"
     ]
    },
    {
     "name": "stderr",
     "output_type": "stream",
     "text": [
      "WARNING: Ignoring invalid distribution -cipy (c:\\users\\barry\\anaconda3\\lib\\site-packages)\n",
      "WARNING: Ignoring invalid distribution -cipy (c:\\users\\barry\\anaconda3\\lib\\site-packages)\n",
      "WARNING: Ignoring invalid distribution -cipy (c:\\users\\barry\\anaconda3\\lib\\site-packages)\n",
      "WARNING: Ignoring invalid distribution -cipy (c:\\users\\barry\\anaconda3\\lib\\site-packages)\n",
      "WARNING: Ignoring invalid distribution -cipy (c:\\users\\barry\\anaconda3\\lib\\site-packages)\n",
      "WARNING: Ignoring invalid distribution -cipy (c:\\users\\barry\\anaconda3\\lib\\site-packages)\n",
      "WARNING: Ignoring invalid distribution -cipy (c:\\users\\barry\\anaconda3\\lib\\site-packages)\n"
     ]
    }
   ],
   "source": [
    "!pip install ghp-import"
   ]
  },
  {
   "cell_type": "code",
   "execution_count": 7,
   "id": "4e7e1d14",
   "metadata": {},
   "outputs": [
    {
     "name": "stderr",
     "output_type": "stream",
     "text": [
      "fatal: Could not read from remote repository.\n",
      "\n",
      "Please make sure you have the correct access rights\n",
      "and the repository exists.\n",
      "Traceback (most recent call last):\n",
      "  File \"C:\\Users\\Barry\\anaconda3\\lib\\runpy.py\", line 197, in _run_module_as_main\n",
      "    return _run_code(code, main_globals, None,\n",
      "  File \"C:\\Users\\Barry\\anaconda3\\lib\\runpy.py\", line 87, in _run_code\n",
      "    exec(code, run_globals)\n",
      "  File \"C:\\Users\\Barry\\anaconda3\\Scripts\\ghp-import.exe\\__main__.py\", line 7, in <module>\n",
      "  File \"C:\\Users\\Barry\\anaconda3\\lib\\site-packages\\ghp_import.py\", line 300, in main\n",
      "    ghp_import(args.pop(\"directory\"), **args)\n",
      "  File \"C:\\Users\\Barry\\anaconda3\\lib\\site-packages\\ghp_import.py\", line 283, in ghp_import\n",
      "    git.check_call('push', opts['remote'], opts['branch'], '--force')\n",
      "  File \"C:\\Users\\Barry\\anaconda3\\lib\\site-packages\\ghp_import.py\", line 119, in check_call\n",
      "    sp.check_call(['git'] + list(args), **kwargs)\n",
      "  File \"C:\\Users\\Barry\\anaconda3\\lib\\subprocess.py\", line 373, in check_call\n",
      "    raise CalledProcessError(retcode, cmd)\n",
      "subprocess.CalledProcessError: Command '['git', 'push', 'origin', 'gh-pages', '--force']' returned non-zero exit status 128.\n"
     ]
    }
   ],
   "source": [
    "!ghp-import -n -p -f _build/html"
   ]
  },
  {
   "cell_type": "code",
   "execution_count": 9,
   "id": "47cc5720",
   "metadata": {},
   "outputs": [
    {
     "name": "stdout",
     "output_type": "stream",
     "text": [
      "Requirement already satisfied: ghp-import in c:\\users\\barry\\anaconda3\\lib\\site-packages (2.1.0)\n",
      "Requirement already satisfied: python-dateutil>=2.8.1 in c:\\users\\barry\\anaconda3\\lib\\site-packages (from ghp-import) (2.8.2)\n",
      "Requirement already satisfied: six>=1.5 in c:\\users\\barry\\anaconda3\\lib\\site-packages (from python-dateutil>=2.8.1->ghp-import) (1.16.0)\n"
     ]
    },
    {
     "name": "stderr",
     "output_type": "stream",
     "text": [
      "WARNING: Ignoring invalid distribution -cipy (c:\\users\\barry\\anaconda3\\lib\\site-packages)\n",
      "WARNING: Ignoring invalid distribution -cipy (c:\\users\\barry\\anaconda3\\lib\\site-packages)\n",
      "WARNING: Ignoring invalid distribution -cipy (c:\\users\\barry\\anaconda3\\lib\\site-packages)\n",
      "WARNING: Ignoring invalid distribution -cipy (c:\\users\\barry\\anaconda3\\lib\\site-packages)\n",
      "WARNING: Ignoring invalid distribution -cipy (c:\\users\\barry\\anaconda3\\lib\\site-packages)\n",
      "WARNING: Ignoring invalid distribution -cipy (c:\\users\\barry\\anaconda3\\lib\\site-packages)\n"
     ]
    }
   ],
   "source": [
    "!pip install -U ghp-import"
   ]
  },
  {
   "cell_type": "code",
   "execution_count": 6,
   "id": "b55b39ba",
   "metadata": {},
   "outputs": [
    {
     "name": "stderr",
     "output_type": "stream",
     "text": [
      "fatal: Could not read from remote repository.\n",
      "\n",
      "Please make sure you have the correct access rights\n",
      "and the repository exists.\n"
     ]
    }
   ],
   "source": [
    "!git pull"
   ]
  },
  {
   "cell_type": "code",
   "execution_count": null,
   "id": "a0954f8f",
   "metadata": {},
   "outputs": [],
   "source": []
  }
 ],
 "metadata": {
  "kernelspec": {
   "display_name": "Python 3 (ipykernel)",
   "language": "python",
   "name": "python3"
  },
  "language_info": {
   "codemirror_mode": {
    "name": "ipython",
    "version": 3
   },
   "file_extension": ".py",
   "mimetype": "text/x-python",
   "name": "python",
   "nbconvert_exporter": "python",
   "pygments_lexer": "ipython3",
   "version": "3.9.12"
  }
 },
 "nbformat": 4,
 "nbformat_minor": 5
}
