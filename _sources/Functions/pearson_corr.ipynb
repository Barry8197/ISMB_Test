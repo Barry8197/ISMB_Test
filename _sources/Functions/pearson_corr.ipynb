{
 "cells": [
  {
   "cell_type": "markdown",
   "id": "a1ef1075",
   "metadata": {},
   "source": [
    "# <font color='darkblue'> Pearson Correlation </font>"
   ]
  },
  {
   "cell_type": "code",
   "execution_count": 1,
   "id": "fcab6c97",
   "metadata": {},
   "outputs": [],
   "source": [
    "def pearson_corr(data):\n",
    "    \"\"\"\n",
    "    Calculate the Pearson correlation coefficient matrix for a given DataFrame.\n",
    "\n",
    "    Parameters:\n",
    "    data (DataFrame): The input DataFrame containing numeric data.\n",
    "\n",
    "    Returns:\n",
    "    DataFrame: The correlation coefficient matrix.\n",
    "\n",
    "    \"\"\"\n",
    "    data = data._get_numeric_data()\n",
    "    cols = data.columns\n",
    "    idx = cols.copy()\n",
    "    mat = data.to_numpy(dtype=float, na_value=np.nan, copy=False)\n",
    "    mat = mat.T\n",
    "\n",
    "    K = len(cols)\n",
    "    correl = np.empty((K, K), dtype=np.float32)\n",
    "    mask = np.isfinite(mat)\n",
    "\n",
    "    cov = np.cov(mat)\n",
    "\n",
    "    for i in range(K):\n",
    "        correl[i, :] = cov[i, :] / np.sqrt(cov[i, i] * np.diag(cov))\n",
    "\n",
    "    return pd.DataFrame(data=correl, index=idx, columns=cols, dtype=np.float32)"
   ]
  }
 ],
 "metadata": {
  "kernelspec": {
   "display_name": "Python 3 (ipykernel)",
   "language": "python",
   "name": "python3"
  },
  "language_info": {
   "codemirror_mode": {
    "name": "ipython",
    "version": 3
   },
   "file_extension": ".py",
   "mimetype": "text/x-python",
   "name": "python",
   "nbconvert_exporter": "python",
   "pygments_lexer": "ipython3",
   "version": "3.11.4"
  }
 },
 "nbformat": 4,
 "nbformat_minor": 5
}
