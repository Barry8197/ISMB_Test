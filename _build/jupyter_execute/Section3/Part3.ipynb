{
 "cells": [
  {
   "cell_type": "markdown",
   "id": "3e2886ee",
   "metadata": {},
   "source": [
    "# <font color='darkblue'> Part 3 : Smoking Network Classification using Graph Convolutional Networks</font> \n",
    "\n",
    "## Section 4 - Machine Learning for Networks (lead Barry)\n",
    "- talk introducing ML methods specifically adapted for graphs from first principles\n",
    "- notebooks covering\n",
    " - implementation examples for a couple of GNN model types\n",
    " - an example analysis using one of the toy examples\n",
    " - a skeleton for analysis of the GenScot network\n",
    " \n",
    "<font color='darkgreen'> Idea so far : </font>\n",
    "\n",
    "1. From the [EWAS Catalog](https://www.ewascatalog.org/?trait=smoking) get a list of CpG sites and genes relating to smoking\n",
    "2. Subset to matching CpG sites in the methylation data\n",
    "3. Swap CpG sites to corresponding Gene (obtained from EWAS)\n",
    "4. Generate smoking \"disease\" PPI network from [StringDB](https://string-db.org)\n",
    "5. Build a data graph dataset which incorporates the Gen Scot methylation data\n",
    "6. Build a graph classifier which can predict Gen Scot participants who have or have not smoked\n",
    "\n",
    "<font color='red'> TO DO </font>\n",
    "1. Incorporate Seb's GNN's\n",
    "        1.1 Good to get Seb's help & input on this\n",
    "~~2. Faster baseline implementation -> Logistic Regression CV is too slow~~\n",
    "3. Improve comments and explain each section\n",
    "4. Mapping CpG's to genes is not a 1:1 mapping. Genes will be associated with multiple CpG's and vice versa. Need to identify a way better accounts for this\n",
    "        4.1 Currently aggregating by mean and dropping cpgs with multiple genes\n",
    "        4.2 Could add extra edges ? \n",
    "                4.2.1 Extra edge for two CpG's which are invovled in the same gene\n",
    "                4.2.3 Add nodes and edges between genes which are impacted by the same CpG\n",
    "5. Beat Logistic Regression Baseline\n",
    "\n",
    "<font color='Blue'> Updates </font> <br>\n",
    "Looks like network needs to be imrpoved. The average node degree is 3 which means that all the relationships are being smoothed out. We want a dense network with meaningful interactions. \n",
    "* Have tested with node features for 1 smoker 0 never and got 100% acc -> Model works fine\n",
    "* Have also test with logistic regression on the node features without a network ~78% accuracy. Small drop off from baseline but close enough\n",
    "* Began looking at a patient similarity framework too. Can measure similarity based off the smoking phenotypes\n",
    "    * Accuracy around 65% - improvement but not great\n",
    "    * potential to use gcn-mme from MOGDx? \n",
    "* Also playing around with looking at measuring similarity based off StringDB interactions **np.matmul(PatxGene , PPI)**\n",
    "    * Similar accuracy\n",
    "* This again is falling into the smoothing issue where the network has so few interactions that the scores become uniform. Likely what is happening with the graph classification too\n",
    "* I also added a for loop to the PPI StringDB whereby we now include all genes. The issue with this method is that it assumes genes in seperate for loops do not interact. Probably explains why the degree of the network is so low. \n",
    "* Next steps has to look at how we are developing the network and how to best generate this -> Stay with StringDB? \n",
    "    * Filtering Network definitely improves performance -> Increasing connectivity is important\n",
    "    * Might be better to cluster the large network and select biggest cluster?\n"
   ]
  },
  {
   "cell_type": "markdown",
   "id": "c20284d4",
   "metadata": {},
   "source": [
    "## <font color='darkblue'>Graph Convolutional Network in the Transductive Setting </font>\n",
    "\n",
    "In this part we will work with a graph convolutional network. We will attempt to predict whether individuals in the Generation Scotland Dataset have ever smoked. We will work with the network type - patient similarity network whereby we postulate that individuals who have previously smoked will share similar epigenetic markers.\n",
    "\n",
    "- Formulate the task\n",
    "- Patient Similarity Network Generation \n",
    "- Working with Deep Graph Library\n",
    "- Building a Graph Convolutional Network \n",
    "- Training a GCN \n",
    "- Limitations of the Transductive Setting"
   ]
  },
  {
   "cell_type": "code",
   "execution_count": 1,
   "id": "0997595e",
   "metadata": {},
   "outputs": [],
   "source": [
    "import pickle\n",
    "import pandas as pd\n",
    "import numpy as np\n",
    "import networkx as nx\n",
    "import matplotlib.pyplot as plt\n",
    "import sys\n",
    "sys.path.insert(0 , './../functions.py')"
   ]
  },
  {
   "cell_type": "markdown",
   "id": "f4dd1a4c",
   "metadata": {},
   "source": [
    "## <font color='darkblue'> Load Data and Network </font>"
   ]
  },
  {
   "cell_type": "code",
   "execution_count": 2,
   "id": "4106f92f",
   "metadata": {},
   "outputs": [],
   "source": [
    "with open('./../data/GCN_Data.pkl' , 'rb') as file : \n",
    "    loaded_data = pd.read_pickle(file)"
   ]
  },
  {
   "cell_type": "markdown",
   "id": "9c4c253f",
   "metadata": {},
   "source": [
    "## <font color='darkblue'> Working with [Deep Graph Library](https://www.dgl.ai/)</font>"
   ]
  },
  {
   "cell_type": "code",
   "execution_count": 3,
   "id": "93fc6bc6",
   "metadata": {},
   "outputs": [],
   "source": [
    "import os\n",
    "os.environ[\"DGLBACKEND\"] = \"pytorch\"\n",
    "import dgl\n",
    "import torch\n",
    "\n",
    "g = dgl.from_networkx(loaded_data['PSN_EWAS'] , node_attrs=['idx' , 'label'])\n",
    "g.ndata['feat'] = torch.Tensor(loaded_data['Feat'].iloc[g.ndata['idx'].numpy()].values)"
   ]
  },
  {
   "cell_type": "code",
   "execution_count": 4,
   "id": "c1b9df8c",
   "metadata": {},
   "outputs": [
    {
     "data": {
      "text/plain": [
       "True"
      ]
     },
     "execution_count": 4,
     "metadata": {},
     "output_type": "execute_result"
    }
   ],
   "source": [
    "# Sanity Check that our graph is preserved\n",
    "\n",
    "phenotypes = loaded_data['phenotypes']\n",
    "\n",
    "node_0 = phenotypes.iloc[g.ndata['idx'].numpy()].iloc[0]\n",
    "\n",
    "node_0_edges = []\n",
    "for e1 , e2 in loaded_data['PSN_EWAS'].edges(node_0.name) :  \n",
    "    node_0_edges.append(e2)\n",
    "        \n",
    "# Note : DGL will reorder the nodes if integers present in the node name\n",
    "\n",
    "sorted(list(phenotypes.iloc[g.ndata['idx'].numpy()].iloc[g.out_edges(0)[1].numpy()].index)) == sorted(node_0_edges)"
   ]
  },
  {
   "cell_type": "markdown",
   "id": "656cb887",
   "metadata": {},
   "source": [
    "## <font color='darkblue'>Graph Convolutional Network </font>"
   ]
  },
  {
   "cell_type": "code",
   "execution_count": 5,
   "id": "a799e306",
   "metadata": {},
   "outputs": [],
   "source": [
    "import torch.nn as nn\n",
    "import torch.nn.functional as F\n",
    "from dgl.nn import GraphConv\n",
    "    \n",
    "class GCN(nn.Module):\n",
    "    def __init__(self, input_dim,  hidden_feats, num_classes):\n",
    "        \n",
    "        super().__init__()\n",
    "        \n",
    "        self.gcnlayers = nn.ModuleList()\n",
    "        self.batch_norms = nn.ModuleList()\n",
    "        self.num_layers = len(hidden_feats) + 1\n",
    "        \n",
    "        '''\n",
    "        #################################################\n",
    "                       YOUR CODE HERE\n",
    "        #################################################\n",
    "        \n",
    "        '''\n",
    "        \n",
    "        for layers in range(self.num_layers) :\n",
    "            if layers < self.num_layers -1 :\n",
    "                if layers == 0 : \n",
    "                    self.gcnlayers.append(\n",
    "                        GraphConv(input_dim , hidden_feats[layers])\n",
    "                    )\n",
    "                else :\n",
    "                    self.gcnlayers.append(\n",
    "                        GraphConv(hidden_feats[layers-1] , hidden_feats[layers])\n",
    "                    )\n",
    "                self.batch_norms.append(nn.BatchNorm1d(hidden_feats[layers]))\n",
    "            else : \n",
    "                self.gcnlayers.append(\n",
    "                    GraphConv(hidden_feats[layers-1] , num_classes)\n",
    "                )\n",
    "                \n",
    "        self.drop = nn.Dropout(0.1)\n",
    "\n",
    "    def forward(self, g, h):\n",
    "        # list of hidden representation at each layer (including the input layer)\n",
    "        \n",
    "        '''\n",
    "        #################################################\n",
    "                       YOUR CODE HERE\n",
    "        #################################################\n",
    "        \n",
    "        We will now perform propagation and aggregation in the same function.\n",
    "        We need to gather the node features of all neighbouring nodes -> propagation\n",
    "        We will aggregate these messages by performing median aggregation -> aggregation\n",
    "        \n",
    "        Note. This function gathers the messages for a single node and will be useed\n",
    "        to iterate over in the message_passing_iteration\n",
    "        \n",
    "        In this function you will need to : \n",
    "            1. Create a nested list of the node features of neighbouring nodes\n",
    "            2. Aggregate these messages for each node using np.median() or likewise\n",
    "        '''\n",
    "        \n",
    "        for layers in range(self.num_layers) : \n",
    "            if layers == self.num_layers - 1 : \n",
    "                h = self.gcnlayers[layers](g , h)\n",
    "            else : \n",
    "                h = self.gcnlayers[layers](g, h)\n",
    "                h = self.drop(F.relu(h))\n",
    "            \n",
    "        score = self.drop(h)\n",
    "            \n",
    "        return score"
   ]
  },
  {
   "cell_type": "markdown",
   "id": "06ba0721",
   "metadata": {},
   "source": [
    "### <font color='darkblue'> Training & Evaluation </font>"
   ]
  },
  {
   "cell_type": "code",
   "execution_count": 6,
   "id": "9e7ac6f0",
   "metadata": {},
   "outputs": [
    {
     "name": "stderr",
     "output_type": "stream",
     "text": [
      "<frozen importlib._bootstrap>:228: RuntimeWarning: scipy._lib.messagestream.MessageStream size changed, may indicate binary incompatibility. Expected 56 from C header, got 64 from PyObject\n"
     ]
    }
   ],
   "source": [
    "import torch.optim as optim\n",
    "import torch.nn as nn\n",
    "import sklearn as sk\n",
    "import seaborn as sns\n",
    "from sklearn.metrics import precision_recall_curve , average_precision_score , recall_score ,  PrecisionRecallDisplay\n",
    "from tqdm.notebook import tqdm\n",
    "\n",
    "def train(g, h, train_split , val_split , device ,  model , labels , epochs , lr):\n",
    "    # loss function, optimizer and scheduler\n",
    "    loss_fcn = nn.CrossEntropyLoss()\n",
    "    optimizer = optim.Adam(model.parameters(), lr=lr , weight_decay=1e-4)\n",
    "    scheduler = optim.lr_scheduler.StepLR(optimizer, step_size=50, gamma=0.8)\n",
    "\n",
    "    train_loss = []\n",
    "    val_loss   = []\n",
    "    train_acc  = []\n",
    "    val_acc    = []\n",
    "    \n",
    "    # training loop\n",
    "    epoch_progress = tqdm(total=epochs, desc='Loss : ', unit='epoch')\n",
    "    for epoch in range(epochs):\n",
    "        model.train()\n",
    "\n",
    "        logits  = model(g, h)\n",
    "\n",
    "        loss = loss_fcn(logits[train_split], labels[train_split].float())\n",
    "        train_loss.append(loss.item())\n",
    "        \n",
    "        optimizer.zero_grad()\n",
    "        loss.backward()\n",
    "        optimizer.step()\n",
    "\n",
    "        scheduler.step()\n",
    "        \n",
    "        if (epoch % 5) == 0 :\n",
    "            \n",
    "            _, predicted = torch.max(logits[train_split], 1)\n",
    "            _, true = torch.max(labels[train_split] , 1)\n",
    "            train_acc.append((predicted == true).float().mean().item())\n",
    "\n",
    "            valid_loss , valid_acc , *_ = evaluate(val_split, device, g , h, model , labels)\n",
    "            val_loss.append(valid_loss.item())\n",
    "            val_acc.append(valid_acc)\n",
    "            \n",
    "            epoch_desc = (\n",
    "                \"Epoch {:05d} | Loss {:.4f} | Train Acc. {:.4f} | Validation Acc. {:.4f} \".format(\n",
    "                    epoch, np.mean(train_loss[-5:]) , np.mean(train_acc[-5:]), np.mean(val_acc[-5:])\n",
    "                )\n",
    "            )\n",
    "            \n",
    "            epoch_progress.set_description(epoch_desc)\n",
    "            epoch_progress.update(5)\n",
    "\n",
    "    fig1 , ax1 = plt.subplots(figsize=(6,4))\n",
    "    ax1.plot(train_loss[-1250:]  , label = 'Train Loss')\n",
    "    ax1.plot(range(5 , len(train_loss[-1250:])+1 , 5) , val_loss[-250:]  , label = 'Validation Loss')\n",
    "    ax1.set_title('Training and Validation Loss')\n",
    "    ax1.set_ylim(0,1)\n",
    "    ax1.legend()\n",
    "    \n",
    "    fig2 , ax2 = plt.subplots(figsize=(6,4))\n",
    "    ax2.plot(train_acc[-500:]  , label = 'Train Accuracy')\n",
    "    ax2.plot(val_acc[-500:]  , label = 'Validation Accuracy')\n",
    "    ax2.set_title('Training and Validation Accuracy')\n",
    "    ax2.set_ylim(0,1)\n",
    "    ax2.legend()\n",
    "    \n",
    "    # Close tqdm for epochs\n",
    "    epoch_progress.close()\n",
    "\n",
    "    return fig1 , fig2\n",
    "\n",
    "def evaluate(split, device, g , h, model , labels):\n",
    "    model.eval()\n",
    "    loss_fcn = nn.CrossEntropyLoss()\n",
    "    acc = 0\n",
    "    \n",
    "    with torch.no_grad() : \n",
    "        logits = model(g, h)\n",
    "        \n",
    "        loss = loss_fcn(logits[split], labels[split].float())\n",
    "\n",
    "        _, predicted = torch.max(logits[split], 1)\n",
    "        _, true = torch.max(labels[split] , 1)\n",
    "        acc = (predicted == true).float().mean().item()\n",
    "        \n",
    "        logits_out = logits[split].cpu().detach().numpy()\n",
    "        binary_out = (logits_out == logits_out.max(1).reshape(-1,1))*1\n",
    "        \n",
    "        labels_out = labels[split].cpu().detach().numpy()\n",
    "        \n",
    "        PRC =  average_precision_score(labels_out , binary_out , average=\"weighted\")\n",
    "        SNS = recall_score(labels_out , binary_out , average=\"weighted\")\n",
    "        F1 = 2*((PRC*SNS)/(PRC+SNS))\n",
    "        \n",
    "    \n",
    "    return loss , acc , F1 , PRC , SNS"
   ]
  },
  {
   "cell_type": "code",
   "execution_count": 7,
   "id": "a871ce31",
   "metadata": {
    "scrolled": true
   },
   "outputs": [
    {
     "name": "stdout",
     "output_type": "stream",
     "text": [
      "GCN(\n",
      "  (gcnlayers): ModuleList(\n",
      "    (0): GraphConv(in=23676, out=128, normalization=both, activation=None)\n",
      "    (1): GraphConv(in=128, out=32, normalization=both, activation=None)\n",
      "    (2): GraphConv(in=32, out=2, normalization=both, activation=None)\n",
      "  )\n",
      "  (batch_norms): ModuleList(\n",
      "    (0): BatchNorm1d(128, eps=1e-05, momentum=0.1, affine=True, track_running_stats=True)\n",
      "    (1): BatchNorm1d(32, eps=1e-05, momentum=0.1, affine=True, track_running_stats=True)\n",
      "  )\n",
      "  (drop): Dropout(p=0.1, inplace=False)\n",
      ")\n",
      "Graph(num_nodes=1000, num_edges=38886,\n",
      "      ndata_schemes={'idx': Scheme(shape=(), dtype=torch.int32), 'label': Scheme(shape=(), dtype=torch.int8), 'feat': Scheme(shape=(23676,), dtype=torch.float32)}\n",
      "      edata_schemes={})\n"
     ]
    },
    {
     "data": {
      "application/vnd.jupyter.widget-view+json": {
       "model_id": "ff01d84c5d7c4c2398541a28fa894f73",
       "version_major": 2,
       "version_minor": 0
      },
      "text/plain": [
       "Loss :   0%|          | 0/2000 [00:00<?, ?epoch/s]"
      ]
     },
     "metadata": {},
     "output_type": "display_data"
    },
    {
     "data": {
      "image/png": "[encoded data removed]",
      "text/plain": [
       "<Figure size 432x288 with 1 Axes>"
      ]
     },
     "metadata": {
      "needs_background": "light"
     },
     "output_type": "display_data"
    },
    {
     "data": {
      "image/png": "[encoded data removed]",
      "text/plain": [
       "<Figure size 432x288 with 1 Axes>"
      ]
     },
     "metadata": {
      "needs_background": "light"
     },
     "output_type": "display_data"
    },
    {
     "name": "stdout",
     "output_type": "stream",
     "text": [
      "GNN Model | Test Accuracy = 0.7125 | F1 = 0.6816 |\n"
     ]
    }
   ],
   "source": [
    "from sklearn.model_selection import train_test_split\n",
    "\n",
    "device = ('cuda' if torch.cuda.is_available() else 'cpu')\n",
    "\n",
    "g = g.to(device)\n",
    "\n",
    "node_subjects = phenotypes['Smoking'].iloc[g.ndata['idx'].detach().cpu().numpy()].reset_index(drop=True) # Get node target labels from meta data\n",
    "node_subjects.name = 'Smoking'\n",
    "\n",
    "GCN_input_shapes = g.ndata['feat'].shape[1]\n",
    "\n",
    "labels = F.one_hot(g.ndata['label'].to(torch.int64))\n",
    "\n",
    "output_metrics = []\n",
    "logits = np.array([])\n",
    "labels_all = np.array([])\n",
    "\n",
    "train_tmp_index , test_index = train_test_split(\n",
    "    node_subjects.index, train_size=0.6, stratify=node_subjects\n",
    "    )\n",
    "train_index , val_index = train_test_split(\n",
    "    train_tmp_index, train_size=0.8, stratify=node_subjects.loc[train_tmp_index]\n",
    "    )\n",
    "\n",
    "model = GCN(GCN_input_shapes , [128 , 32], len(node_subjects.unique())).to(device) \n",
    "print(model)\n",
    "print(g)\n",
    "\n",
    "loss_plot = train(g, g.ndata['feat'] , train_index , val_index , device ,  model , labels , 2000 , 1e-3)\n",
    "plt.show()\n",
    "\n",
    "test_output_metrics = evaluate(test_index , device , g , g.ndata['feat'] , model , labels )\n",
    "\n",
    "print(\n",
    "    \"GNN Model | Test Accuracy = {:.4f} | F1 = {:.4f} |\".format(\n",
    "     test_output_metrics[1] , test_output_metrics[2] )\n",
    ")"
   ]
  },
  {
   "cell_type": "code",
   "execution_count": 8,
   "id": "38418729",
   "metadata": {},
   "outputs": [
    {
     "name": "stdout",
     "output_type": "stream",
     "text": [
      "Baseline Logistic Regression ACC : 0.79\n"
     ]
    },
    {
     "name": "stderr",
     "output_type": "stream",
     "text": [
      "C:\\Users\\Barry\\anaconda3\\lib\\site-packages\\sklearn\\linear_model\\_sag.py:350: ConvergenceWarning: The max_iter was reached which means the coef_ did not converge\n",
      "  warnings.warn(\n"
     ]
    }
   ],
   "source": [
    "from sklearn.linear_model import LogisticRegression\n",
    "\n",
    "y_vals = labels.detach().cpu().numpy()\n",
    "input_data = g.ndata['feat'].detach().cpu().numpy()\n",
    "\n",
    "glmnet = LogisticRegression(penalty='l1' , solver='saga', max_iter = 1000 )\n",
    "glmnet.fit(input_data[train_index] , y_vals[train_index][: , 0])\n",
    "glmnet_acc = glmnet.score(input_data[test_index] , y_vals[test_index][: , 0])\n",
    "print(f'Baseline Logistic Regression ACC : {glmnet_acc}')"
   ]
  }
 ],
 "metadata": {
  "kernelspec": {
   "display_name": "Python 3 (ipykernel)",
   "language": "python",
   "name": "python3"
  },
  "language_info": {
   "codemirror_mode": {
    "name": "ipython",
    "version": 3
   },
   "file_extension": ".py",
   "mimetype": "text/x-python",
   "name": "python",
   "nbconvert_exporter": "python",
   "pygments_lexer": "ipython3",
   "version": "3.9.12"
  },
  "widgets": {
   "application/vnd.jupyter.widget-state+json": {
    "state": {
     "259762e2d90141fcab02aadc24a7463f": {
      "model_module": "@jupyter-widgets/controls",
      "model_module_version": "1.5.0",
      "model_name": "HTMLModel",
      "state": {
       "_dom_classes": [],
       "_model_module": "@jupyter-widgets/controls",
       "_model_module_version": "1.5.0",
       "_model_name": "HTMLModel",
       "_view_count": null,
       "_view_module": "@jupyter-widgets/controls",
       "_view_module_version": "1.5.0",
       "_view_name": "HTMLView",
       "description": "",
       "description_tooltip": null,
       "layout": "IPY_MODEL_79627efd655c4fbf8c2b14591aaa07c4",
       "placeholder": "​",
       "style": "IPY_MODEL_6987729e33f94868b649213e64533bdb",
       "value": "Epoch 01995 | Loss 0.6570 | Train Acc. 0.6438 | Validation Acc. 0.6650 : 100%"
      }
     },
     "3af52513c64d4a558c3145eb9ffe8931": {
      "model_module": "@jupyter-widgets/base",
      "model_module_version": "1.2.0",
      "model_name": "LayoutModel",
      "state": {
       "_model_module": "@jupyter-widgets/base",
       "_model_module_version": "1.2.0",
       "_model_name": "LayoutModel",
       "_view_count": null,
       "_view_module": "@jupyter-widgets/base",
       "_view_module_version": "1.2.0",
       "_view_name": "LayoutView",
       "align_content": null,
       "align_items": null,
       "align_self": null,
       "border": null,
       "bottom": null,
       "display": null,
       "flex": null,
       "flex_flow": null,
       "grid_area": null,
       "grid_auto_columns": null,
       "grid_auto_flow": null,
       "grid_auto_rows": null,
       "grid_column": null,
       "grid_gap": null,
       "grid_row": null,
       "grid_template_areas": null,
       "grid_template_columns": null,
       "grid_template_rows": null,
       "height": null,
       "justify_content": null,
       "justify_items": null,
       "left": null,
       "margin": null,
       "max_height": null,
       "max_width": null,
       "min_height": null,
       "min_width": null,
       "object_fit": null,
       "object_position": null,
       "order": null,
       "overflow": null,
       "overflow_x": null,
       "overflow_y": null,
       "padding": null,
       "right": null,
       "top": null,
       "visibility": null,
       "width": null
      }
     },
     "6987729e33f94868b649213e64533bdb": {
      "model_module": "@jupyter-widgets/controls",
      "model_module_version": "1.5.0",
      "model_name": "DescriptionStyleModel",
      "state": {
       "_model_module": "@jupyter-widgets/controls",
       "_model_module_version": "1.5.0",
       "_model_name": "DescriptionStyleModel",
       "_view_count": null,
       "_view_module": "@jupyter-widgets/base",
       "_view_module_version": "1.2.0",
       "_view_name": "StyleView",
       "description_width": ""
      }
     },
     "7831877d964848518b681f5dadba9284": {
      "model_module": "@jupyter-widgets/controls",
      "model_module_version": "1.5.0",
      "model_name": "ProgressStyleModel",
      "state": {
       "_model_module": "@jupyter-widgets/controls",
       "_model_module_version": "1.5.0",
       "_model_name": "ProgressStyleModel",
       "_view_count": null,
       "_view_module": "@jupyter-widgets/base",
       "_view_module_version": "1.2.0",
       "_view_name": "StyleView",
       "bar_color": null,
       "description_width": ""
      }
     },
     "79627efd655c4fbf8c2b14591aaa07c4": {
      "model_module": "@jupyter-widgets/base",
      "model_module_version": "1.2.0",
      "model_name": "LayoutModel",
      "state": {
       "_model_module": "@jupyter-widgets/base",
       "_model_module_version": "1.2.0",
       "_model_name": "LayoutModel",
       "_view_count": null,
       "_view_module": "@jupyter-widgets/base",
       "_view_module_version": "1.2.0",
       "_view_name": "LayoutView",
       "align_content": null,
       "align_items": null,
       "align_self": null,
       "border": null,
       "bottom": null,
       "display": null,
       "flex": null,
       "flex_flow": null,
       "grid_area": null,
       "grid_auto_columns": null,
       "grid_auto_flow": null,
       "grid_auto_rows": null,
       "grid_column": null,
       "grid_gap": null,
       "grid_row": null,
       "grid_template_areas": null,
       "grid_template_columns": null,
       "grid_template_rows": null,
       "height": null,
       "justify_content": null,
       "justify_items": null,
       "left": null,
       "margin": null,
       "max_height": null,
       "max_width": null,
       "min_height": null,
       "min_width": null,
       "object_fit": null,
       "object_position": null,
       "order": null,
       "overflow": null,
       "overflow_x": null,
       "overflow_y": null,
       "padding": null,
       "right": null,
       "top": null,
       "visibility": null,
       "width": null
      }
     },
     "7f45b2b702a24135bbb4981dbb1cb966": {
      "model_module": "@jupyter-widgets/base",
      "model_module_version": "1.2.0",
      "model_name": "LayoutModel",
      "state": {
       "_model_module": "@jupyter-widgets/base",
       "_model_module_version": "1.2.0",
       "_model_name": "LayoutModel",
       "_view_count": null,
       "_view_module": "@jupyter-widgets/base",
       "_view_module_version": "1.2.0",
       "_view_name": "LayoutView",
       "align_content": null,
       "align_items": null,
       "align_self": null,
       "border": null,
       "bottom": null,
       "display": null,
       "flex": null,
       "flex_flow": null,
       "grid_area": null,
       "grid_auto_columns": null,
       "grid_auto_flow": null,
       "grid_auto_rows": null,
       "grid_column": null,
       "grid_gap": null,
       "grid_row": null,
       "grid_template_areas": null,
       "grid_template_columns": null,
       "grid_template_rows": null,
       "height": null,
       "justify_content": null,
       "justify_items": null,
       "left": null,
       "margin": null,
       "max_height": null,
       "max_width": null,
       "min_height": null,
       "min_width": null,
       "object_fit": null,
       "object_position": null,
       "order": null,
       "overflow": null,
       "overflow_x": null,
       "overflow_y": null,
       "padding": null,
       "right": null,
       "top": null,
       "visibility": null,
       "width": null
      }
     },
     "8d91f5d5dcbd44e5afca0ca441acd138": {
      "model_module": "@jupyter-widgets/controls",
      "model_module_version": "1.5.0",
      "model_name": "FloatProgressModel",
      "state": {
       "_dom_classes": [],
       "_model_module": "@jupyter-widgets/controls",
       "_model_module_version": "1.5.0",
       "_model_name": "FloatProgressModel",
       "_view_count": null,
       "_view_module": "@jupyter-widgets/controls",
       "_view_module_version": "1.5.0",
       "_view_name": "ProgressView",
       "bar_style": "success",
       "description": "",
       "description_tooltip": null,
       "layout": "IPY_MODEL_3af52513c64d4a558c3145eb9ffe8931",
       "max": 2000.0,
       "min": 0.0,
       "orientation": "horizontal",
       "style": "IPY_MODEL_7831877d964848518b681f5dadba9284",
       "value": 2000.0
      }
     },
     "b846403b227b4f8e83a0566e426733ba": {
      "model_module": "@jupyter-widgets/controls",
      "model_module_version": "1.5.0",
      "model_name": "DescriptionStyleModel",
      "state": {
       "_model_module": "@jupyter-widgets/controls",
       "_model_module_version": "1.5.0",
       "_model_name": "DescriptionStyleModel",
       "_view_count": null,
       "_view_module": "@jupyter-widgets/base",
       "_view_module_version": "1.2.0",
       "_view_name": "StyleView",
       "description_width": ""
      }
     },
     "cac3a2809d434f7caac337ce1ec6b319": {
      "model_module": "@jupyter-widgets/controls",
      "model_module_version": "1.5.0",
      "model_name": "HTMLModel",
      "state": {
       "_dom_classes": [],
       "_model_module": "@jupyter-widgets/controls",
       "_model_module_version": "1.5.0",
       "_model_name": "HTMLModel",
       "_view_count": null,
       "_view_module": "@jupyter-widgets/controls",
       "_view_module_version": "1.5.0",
       "_view_name": "HTMLView",
       "description": "",
       "description_tooltip": null,
       "layout": "IPY_MODEL_f1954c8b4eb44d379d21ebaf79cb1d93",
       "placeholder": "​",
       "style": "IPY_MODEL_b846403b227b4f8e83a0566e426733ba",
       "value": " 2000/2000 [00:35&lt;00:00, 64.65epoch/s]"
      }
     },
     "f1954c8b4eb44d379d21ebaf79cb1d93": {
      "model_module": "@jupyter-widgets/base",
      "model_module_version": "1.2.0",
      "model_name": "LayoutModel",
      "state": {
       "_model_module": "@jupyter-widgets/base",
       "_model_module_version": "1.2.0",
       "_model_name": "LayoutModel",
       "_view_count": null,
       "_view_module": "@jupyter-widgets/base",
       "_view_module_version": "1.2.0",
       "_view_name": "LayoutView",
       "align_content": null,
       "align_items": null,
       "align_self": null,
       "border": null,
       "bottom": null,
       "display": null,
       "flex": null,
       "flex_flow": null,
       "grid_area": null,
       "grid_auto_columns": null,
       "grid_auto_flow": null,
       "grid_auto_rows": null,
       "grid_column": null,
       "grid_gap": null,
       "grid_row": null,
       "grid_template_areas": null,
       "grid_template_columns": null,
       "grid_template_rows": null,
       "height": null,
       "justify_content": null,
       "justify_items": null,
       "left": null,
       "margin": null,
       "max_height": null,
       "max_width": null,
       "min_height": null,
       "min_width": null,
       "object_fit": null,
       "object_position": null,
       "order": null,
       "overflow": null,
       "overflow_x": null,
       "overflow_y": null,
       "padding": null,
       "right": null,
       "top": null,
       "visibility": null,
       "width": null
      }
     },
     "ff01d84c5d7c4c2398541a28fa894f73": {
      "model_module": "@jupyter-widgets/controls",
      "model_module_version": "1.5.0",
      "model_name": "HBoxModel",
      "state": {
       "_dom_classes": [],
       "_model_module": "@jupyter-widgets/controls",
       "_model_module_version": "1.5.0",
       "_model_name": "HBoxModel",
       "_view_count": null,
       "_view_module": "@jupyter-widgets/controls",
       "_view_module_version": "1.5.0",
       "_view_name": "HBoxView",
       "box_style": "",
       "children": [
        "IPY_MODEL_259762e2d90141fcab02aadc24a7463f",
        "IPY_MODEL_8d91f5d5dcbd44e5afca0ca441acd138",
        "IPY_MODEL_cac3a2809d434f7caac337ce1ec6b319"
       ],
       "layout": "IPY_MODEL_7f45b2b702a24135bbb4981dbb1cb966"
      }
     }
    },
    "version_major": 2,
    "version_minor": 0
   }
  }
 },
 "nbformat": 4,
 "nbformat_minor": 5
}