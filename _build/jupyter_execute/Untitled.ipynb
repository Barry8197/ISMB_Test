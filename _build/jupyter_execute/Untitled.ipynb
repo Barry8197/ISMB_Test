{
 "cells": [
  {
   "cell_type": "code",
   "execution_count": 1,
   "id": "1e1e3104",
   "metadata": {},
   "outputs": [
    {
     "name": "stdout",
     "output_type": "stream",
     "text": [
      "Requirement already satisfied: ghp-import in /Users/barryryan/anaconda3/lib/python3.11/site-packages (2.1.0)\r\n",
      "Requirement already satisfied: python-dateutil>=2.8.1 in /Users/barryryan/anaconda3/lib/python3.11/site-packages (from ghp-import) (2.8.2)\r\n",
      "Requirement already satisfied: six>=1.5 in /Users/barryryan/anaconda3/lib/python3.11/site-packages (from python-dateutil>=2.8.1->ghp-import) (1.16.0)\r\n"
     ]
    }
   ],
   "source": [
    "!pip install ghp-import"
   ]
  },
  {
   "cell_type": "code",
   "execution_count": 2,
   "id": "4e7e1d14",
   "metadata": {},
   "outputs": [
    {
     "name": "stdout",
     "output_type": "stream",
     "text": [
      "Enumerating objects: 11\r",
      "Enumerating objects: 11, done.\r\n",
      "Counting objects:   9% (1/11)\r",
      "Counting objects:  18% (2/11)\r",
      "Counting objects:  27% (3/11)\r",
      "Counting objects:  36% (4/11)\r",
      "Counting objects:  45% (5/11)\r",
      "Counting objects:  54% (6/11)\r",
      "Counting objects:  63% (7/11)\r",
      "Counting objects:  72% (8/11)\r",
      "Counting objects:  81% (9/11)\r",
      "Counting objects:  90% (10/11)\r",
      "Counting objects: 100% (11/11)\r",
      "Counting objects: 100% (11/11), done.\r\n",
      "Delta compression using up to 4 threads\r\n",
      "Compressing objects:  16% (1/6)\r",
      "Compressing objects:  33% (2/6)\r",
      "Compressing objects:  50% (3/6)\r",
      "Compressing objects:  66% (4/6)\r",
      "Compressing objects:  83% (5/6)\r",
      "Compressing objects: 100% (6/6)\r",
      "Compressing objects: 100% (6/6), done.\r\n"
     ]
    },
    {
     "name": "stdout",
     "output_type": "stream",
     "text": [
      "Writing objects:  16% (1/6)\r",
      "Writing objects:  33% (2/6)\r",
      "Writing objects:  50% (3/6)\r",
      "Writing objects:  66% (4/6)\r",
      "Writing objects: 100% (6/6)\r",
      "Writing objects: 100% (6/6), 1.63 KiB | 834.00 KiB/s, done.\r\n",
      "Total 6 (delta 2), reused 0 (delta 0), pack-reused 0\r\n"
     ]
    },
    {
     "name": "stdout",
     "output_type": "stream",
     "text": [
      "remote: Resolving deltas:   0% (0/2)\u001b[K\r",
      "remote: Resolving deltas:  50% (1/2)\u001b[K\r",
      "remote: Resolving deltas: 100% (2/2)\u001b[K\r",
      "remote: Resolving deltas: 100% (2/2), completed with 1 local object.\u001b[K\r\n"
     ]
    },
    {
     "name": "stdout",
     "output_type": "stream",
     "text": [
      "To github.com:Barry8197/ISMB_Test.git\r\n",
      "   ab24991..bf38dba  gh-pages -> gh-pages\r\n"
     ]
    }
   ],
   "source": [
    "!ghp-import -n -p -f _build/html"
   ]
  },
  {
   "cell_type": "code",
   "execution_count": 3,
   "id": "47cc5720",
   "metadata": {},
   "outputs": [
    {
     "name": "stdout",
     "output_type": "stream",
     "text": [
      "Requirement already satisfied: ghp-import in /Users/barryryan/anaconda3/lib/python3.11/site-packages (2.1.0)\r\n"
     ]
    },
    {
     "name": "stdout",
     "output_type": "stream",
     "text": [
      "Requirement already satisfied: python-dateutil>=2.8.1 in /Users/barryryan/anaconda3/lib/python3.11/site-packages (from ghp-import) (2.8.2)\r\n",
      "Requirement already satisfied: six>=1.5 in /Users/barryryan/anaconda3/lib/python3.11/site-packages (from python-dateutil>=2.8.1->ghp-import) (1.16.0)\r\n"
     ]
    }
   ],
   "source": [
    "!pip install -U ghp-import"
   ]
  },
  {
   "cell_type": "code",
   "execution_count": 4,
   "id": "b55b39ba",
   "metadata": {},
   "outputs": [
    {
     "name": "stdout",
     "output_type": "stream",
     "text": [
      "Already up to date.\r\n"
     ]
    }
   ],
   "source": [
    "!git pull"
   ]
  },
  {
   "cell_type": "code",
   "execution_count": null,
   "id": "a0954f8f",
   "metadata": {},
   "outputs": [],
   "source": []
  }
 ],
 "metadata": {
  "kernelspec": {
   "display_name": "Python 3 (ipykernel)",
   "language": "python",
   "name": "python3"
  },
  "language_info": {
   "codemirror_mode": {
    "name": "ipython",
    "version": 3
   },
   "file_extension": ".py",
   "mimetype": "text/x-python",
   "name": "python",
   "nbconvert_exporter": "python",
   "pygments_lexer": "ipython3",
   "version": "3.11.4"
  }
 },
 "nbformat": 4,
 "nbformat_minor": 5
}